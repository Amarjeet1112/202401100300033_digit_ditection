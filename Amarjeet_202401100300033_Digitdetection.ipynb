{
  "nbformat": 4,
  "nbformat_minor": 0,
  "metadata": {
    "colab": {
      "provenance": [],
      "authorship_tag": "ABX9TyM91aIsZ9aTl39i8WjnlAg1",
      "include_colab_link": true
    },
    "kernelspec": {
      "name": "python3",
      "display_name": "Python 3"
    },
    "language_info": {
      "name": "python"
    }
  },
  "cells": [
    {
      "cell_type": "markdown",
      "metadata": {
        "id": "view-in-github",
        "colab_type": "text"
      },
      "source": [
        "<a href=\"https://colab.research.google.com/github/Amarjeet1112/202401100300033_digit_ditection/blob/main/Amarjeet_202401100300033_Digitdetection.ipynb\" target=\"_parent\"><img src=\"https://colab.research.google.com/assets/colab-badge.svg\" alt=\"Open In Colab\"/></a>"
      ]
    },
    {
      "cell_type": "code",
      "execution_count": null,
      "metadata": {
        "id": "2DsvcX0pc0Jy"
      },
      "outputs": [],
      "source": [
        "import tensorflow\n",
        "from tensorflow import keras\n",
        "from tensorflow.keras import Sequential\n",
        "from tensorflow.keras.layers import Dense,Flatten"
      ]
    },
    {
      "cell_type": "code",
      "source": [
        "(X_train,y_train),(X_test,y_test) = keras.datasets.mnist.load_data()"
      ],
      "metadata": {
        "id": "PEmeoDsWej57"
      },
      "execution_count": null,
      "outputs": []
    },
    {
      "cell_type": "code",
      "source": [
        "X_test.shape"
      ],
      "metadata": {
        "id": "Y1YZw4gLeqdB"
      },
      "execution_count": null,
      "outputs": []
    },
    {
      "cell_type": "code",
      "source": [
        "(10000, 28, 28)"
      ],
      "metadata": {
        "id": "KtPYz8LRe6Jd"
      },
      "execution_count": null,
      "outputs": []
    },
    {
      "cell_type": "code",
      "source": [
        "y_train"
      ],
      "metadata": {
        "id": "z-1zmdrDe-D0"
      },
      "execution_count": null,
      "outputs": []
    },
    {
      "cell_type": "code",
      "source": [
        "array([5, 0, 4, ..., 5, 6, 8], dtype=uint8)"
      ],
      "metadata": {
        "id": "25L5HRfjfFZ6"
      },
      "execution_count": null,
      "outputs": []
    },
    {
      "cell_type": "code",
      "source": [
        "import matplotlib.pyplot as plt\n",
        "plt.imshow(X_train[2])"
      ],
      "metadata": {
        "id": "5tjBHKqQfH0I"
      },
      "execution_count": null,
      "outputs": []
    },
    {
      "cell_type": "code",
      "source": [
        "<matplotlib.image.AxesImage at 0x7f573ed9f790>\n",
        "<Figure size 432x288 with 1 Axes>"
      ],
      "metadata": {
        "id": "QOYWzVk1fMAP"
      },
      "execution_count": null,
      "outputs": []
    },
    {
      "cell_type": "code",
      "source": [
        "X_train = X_train/255\n",
        "X_test = X_test/255"
      ],
      "metadata": {
        "id": "R2GhXNJJfUNZ"
      },
      "execution_count": null,
      "outputs": []
    },
    {
      "cell_type": "code",
      "source": [
        "X_train[0]"
      ],
      "metadata": {
        "id": "NEZUK3XPfYL2"
      },
      "execution_count": null,
      "outputs": []
    },
    {
      "cell_type": "code",
      "source": [
        "array([[0.        , 0.        , 0.        , 0.        , 0.        ,\n",
        "        0.        , 0.        , 0.        , 0.        , 0.        ,\n",
        "        0.        , 0.        , 0.        , 0.        , 0.        ,\n",
        "        0.        , 0.        , 0.        , 0.        , 0.        ,\n",
        "        0.        , 0.        , 0.        , 0.        , 0.        ,\n",
        "        0.        , 0.        , 0.        ],\n",
        "       [0.        , 0.        , 0.        , 0.        , 0.        ,\n",
        "        0.        , 0.        , 0.        , 0.        , 0.        ,\n",
        "        0.        , 0.        , 0.        , 0.        , 0.        ,\n",
        "        0.        , 0.        , 0.        , 0.        , 0.        ,\n",
        "        0.        , 0.        , 0.        , 0.        , 0.        ,\n",
        "        0.        , 0.        , 0.        ],\n",
        "       [0.        , 0.        , 0.        , 0.        , 0.        ,\n",
        "        0.        , 0.        , 0.        , 0.        , 0.        ,\n",
        "        0.        , 0.        , 0.        , 0.        , 0.        ,\n",
        "        0.        , 0.        , 0.        , 0.        , 0.        ,\n",
        "        0.        , 0.        , 0.        , 0.        , 0.        ,\n",
        "        0.        , 0.        , 0.        ],\n",
        "       [0.        , 0.        , 0.        , 0.        , 0.        ,\n",
        "        0.        , 0.        , 0.        , 0.        , 0.        ,\n",
        "        0.        , 0.        , 0.        , 0.        , 0.        ,\n",
        "        0.        , 0.        , 0.        , 0.        , 0.        ,\n",
        "        0.        , 0.        , 0.        , 0.        , 0.        ,\n",
        "        0.        , 0.        , 0.        ],\n",
        "       [0.        , 0.        , 0.        , 0.        , 0.        ,\n",
        "        0.        , 0.        , 0.        , 0.        , 0.        ,\n",
        "        0.        , 0.        , 0.        , 0.        , 0.        ,\n",
        "        0.        , 0.        , 0.        , 0.        , 0.        ,\n",
        "        0.        , 0.        , 0.        , 0.        , 0.        ,\n",
        "        0.        , 0.        , 0.        ],\n",
        "       [0.        , 0.        , 0.        , 0.        , 0.        ,\n",
        "        0.        , 0.        , 0.        , 0.        , 0.        ,\n",
        "        0.        , 0.        , 0.01176471, 0.07058824, 0.07058824,\n",
        "        0.07058824, 0.49411765, 0.53333333, 0.68627451, 0.10196078,\n",
        "        0.65098039, 1.        , 0.96862745, 0.49803922, 0.        ,\n",
        "        0.        , 0.        , 0.        ],\n",
        "       [0.        , 0.        , 0.        , 0.        , 0.        ,\n",
        "        0.        , 0.        , 0.        , 0.11764706, 0.14117647,\n",
        "        0.36862745, 0.60392157, 0.66666667, 0.99215686, 0.99215686,\n",
        "        0.99215686, 0.99215686, 0.99215686, 0.88235294, 0.6745098 ,\n",
        "        0.99215686, 0.94901961, 0.76470588, 0.25098039, 0.        ,\n",
        "        0.        , 0.        , 0.        ],\n",
        "       [0.        , 0.        , 0.        , 0.        , 0.        ,\n",
        "        0.        , 0.        , 0.19215686, 0.93333333, 0.99215686,\n",
        "        0.99215686, 0.99215686, 0.99215686, 0.99215686, 0.99215686,\n",
        "        0.99215686, 0.99215686, 0.98431373, 0.36470588, 0.32156863,\n",
        "        0.32156863, 0.21960784, 0.15294118, 0.        , 0.        ,\n",
        "        0.        , 0.        , 0.        ],\n",
        "       [0.        , 0.        , 0.        , 0.        , 0.        ,\n",
        "        0.        , 0.        , 0.07058824, 0.85882353, 0.99215686,\n",
        "        0.99215686, 0.99215686, 0.99215686, 0.99215686, 0.77647059,\n",
        "        0.71372549, 0.96862745, 0.94509804, 0.        , 0.        ,\n",
        "        0.        , 0.        , 0.        , 0.        , 0.        ,\n",
        "        0.        , 0.        , 0.        ],\n",
        "       [0.        , 0.        , 0.        , 0.        , 0.        ,\n",
        "        0.        , 0.        , 0.        , 0.31372549, 0.61176471,\n",
        "        0.41960784, 0.99215686, 0.99215686, 0.80392157, 0.04313725,\n",
        "        0.        , 0.16862745, 0.60392157, 0.        , 0.        ,\n",
        "        0.        , 0.        , 0.        , 0.        , 0.        ,\n",
        "        0.        , 0.        , 0.        ],\n",
        "       [0.        , 0.        , 0.        , 0.        , 0.        ,\n",
        "        0.        , 0.        , 0.        , 0.        , 0.05490196,\n",
        "        0.00392157, 0.60392157, 0.99215686, 0.35294118, 0.        ,\n",
        "        0.        , 0.        , 0.        , 0.        , 0.        ,\n",
        "        0.        , 0.        , 0.        , 0.        , 0.        ,\n",
        "        0.        , 0.        , 0.        ],\n",
        "       [0.        , 0.        , 0.        , 0.        , 0.        ,\n",
        "        0.        , 0.        , 0.        , 0.        , 0.        ,\n",
        "        0.        , 0.54509804, 0.99215686, 0.74509804, 0.00784314,\n",
        "        0.        , 0.        , 0.        , 0.        , 0.        ,\n",
        "        0.        , 0.        , 0.        , 0.        , 0.        ,\n",
        "        0.        , 0.        , 0.        ],\n",
        "       [0.        , 0.        , 0.        , 0.        , 0.        ,\n",
        "        0.        , 0.        , 0.        , 0.        , 0.        ,\n",
        "        0.        , 0.04313725, 0.74509804, 0.99215686, 0.2745098 ,\n",
        "        0.        , 0.        , 0.        , 0.        , 0.        ,\n",
        "        0.        , 0.        , 0.        , 0.        , 0.        ,\n",
        "        0.        , 0.        , 0.        ],\n",
        "       [0.        , 0.        , 0.        , 0.        , 0.        ,\n",
        "        0.        , 0.        , 0.        , 0.        , 0.        ,\n",
        "        0.        , 0.        , 0.1372549 , 0.94509804, 0.88235294,\n",
        "        0.62745098, 0.42352941, 0.00392157, 0.        , 0.        ,\n",
        "        0.        , 0.        , 0.        , 0.        , 0.        ,\n",
        "        0.        , 0.        , 0.        ],\n",
        "       [0.        , 0.        , 0.        , 0.        , 0.        ,\n",
        "        0.        , 0.        , 0.        , 0.        , 0.        ,\n",
        "        0.        , 0.        , 0.        , 0.31764706, 0.94117647,\n",
        "        0.99215686, 0.99215686, 0.46666667, 0.09803922, 0.        ,\n",
        "        0.        , 0.        , 0.        , 0.        , 0.        ,\n",
        "        0.        , 0.        , 0.        ],\n",
        "       [0.        , 0.        , 0.        , 0.        , 0.        ,\n",
        "        0.        , 0.        , 0.        , 0.        , 0.        ,\n",
        "        0.        , 0.        , 0.        , 0.        , 0.17647059,\n",
        "        0.72941176, 0.99215686, 0.99215686, 0.58823529, 0.10588235,\n",
        "        0.        , 0.        , 0.        , 0.        , 0.        ,\n",
        "        0.        , 0.        , 0.        ],\n",
        "       [0.        , 0.        , 0.        , 0.        , 0.        ,\n",
        "        0.        , 0.        , 0.        , 0.        , 0.        ,\n",
        "        0.        , 0.        , 0.        , 0.        , 0.        ,\n",
        "        0.0627451 , 0.36470588, 0.98823529, 0.99215686, 0.73333333,\n",
        "        0.        , 0.        , 0.        , 0.        , 0.        ,\n",
        "        0.        , 0.        , 0.        ],\n",
        "       [0.        , 0.        , 0.        , 0.        , 0.        ,\n",
        "        0.        , 0.        , 0.        , 0.        , 0.        ,\n",
        "        0.        , 0.        , 0.        , 0.        , 0.        ,\n",
        "        0.        , 0.        , 0.97647059, 0.99215686, 0.97647059,\n",
        "        0.25098039, 0.        , 0.        , 0.        , 0.        ,\n",
        "        0.        , 0.        , 0.        ],\n",
        "       [0.        , 0.        , 0.        , 0.        , 0.        ,\n",
        "        0.        , 0.        , 0.        , 0.        , 0.        ,\n",
        "        0.        , 0.        , 0.        , 0.        , 0.18039216,\n",
        "        0.50980392, 0.71764706, 0.99215686, 0.99215686, 0.81176471,\n",
        "        0.00784314, 0.        , 0.        , 0.        , 0.        ,\n",
        "        0.        , 0.        , 0.        ],\n",
        "       [0.        , 0.        , 0.        , 0.        , 0.        ,\n",
        "        0.        , 0.        , 0.        , 0.        , 0.        ,\n",
        "        0.        , 0.        , 0.15294118, 0.58039216, 0.89803922,\n",
        "        0.99215686, 0.99215686, 0.99215686, 0.98039216, 0.71372549,\n",
        "        0.        , 0.        , 0.        , 0.        , 0.        ,\n",
        "        0.        , 0.        , 0.        ],\n",
        "       [0.        , 0.        , 0.        , 0.        , 0.        ,\n",
        "        0.        , 0.        , 0.        , 0.        , 0.        ,\n",
        "        0.09411765, 0.44705882, 0.86666667, 0.99215686, 0.99215686,\n",
        "        0.99215686, 0.99215686, 0.78823529, 0.30588235, 0.        ,\n",
        "        0.        , 0.        , 0.        , 0.        , 0.        ,\n",
        "        0.        , 0.        , 0.        ],\n",
        "       [0.        , 0.        , 0.        , 0.        , 0.        ,\n",
        "        0.        , 0.        , 0.        , 0.09019608, 0.25882353,\n",
        "        0.83529412, 0.99215686, 0.99215686, 0.99215686, 0.99215686,\n",
        "        0.77647059, 0.31764706, 0.00784314, 0.        , 0.        ,\n",
        "        0.        , 0.        , 0.        , 0.        , 0.        ,\n",
        "        0.        , 0.        , 0.        ],\n",
        "       [0.        , 0.        , 0.        , 0.        , 0.        ,\n",
        "        0.        , 0.07058824, 0.67058824, 0.85882353, 0.99215686,\n",
        "        0.99215686, 0.99215686, 0.99215686, 0.76470588, 0.31372549,\n",
        "        0.03529412, 0.        , 0.        , 0.        , 0.        ,\n",
        "        0.        , 0.        , 0.        , 0.        , 0.        ,\n",
        "        0.        , 0.        , 0.        ],\n",
        "       [0.        , 0.        , 0.        , 0.        , 0.21568627,\n",
        "        0.6745098 , 0.88627451, 0.99215686, 0.99215686, 0.99215686,\n",
        "        0.99215686, 0.95686275, 0.52156863, 0.04313725, 0.        ,\n",
        "        0.        , 0.        , 0.        , 0.        , 0.        ,\n",
        "        0.        , 0.        , 0.        , 0.        , 0.        ,\n",
        "        0.        , 0.        , 0.        ],\n",
        "       [0.        , 0.        , 0.        , 0.        , 0.53333333,\n",
        "        0.99215686, 0.99215686, 0.99215686, 0.83137255, 0.52941176,\n",
        "        0.51764706, 0.0627451 , 0.        , 0.        , 0.        ,\n",
        "        0.        , 0.        , 0.        , 0.        , 0.        ,\n",
        "        0.        , 0.        , 0.        , 0.        , 0.        ,\n",
        "        0.        , 0.        , 0.        ],\n",
        "       [0.        , 0.        , 0.        , 0.        , 0.        ,\n",
        "        0.        , 0.        , 0.        , 0.        , 0.        ,\n",
        "        0.        , 0.        , 0.        , 0.        , 0.        ,\n",
        "        0.        , 0.        , 0.        , 0.        , 0.        ,\n",
        "        0.        , 0.        , 0.        , 0.        , 0.        ,\n",
        "        0.        , 0.        , 0.        ],\n",
        "       [0.        , 0.        , 0.        , 0.        , 0.        ,\n",
        "        0.        , 0.        , 0.        , 0.        , 0.        ,\n",
        "        0.        , 0.        , 0.        , 0.        , 0.        ,\n",
        "        0.        , 0.        , 0.        , 0.        , 0.        ,\n",
        "        0.        , 0.        , 0.        , 0.        , 0.        ,\n",
        "        0.        , 0.        , 0.        ],\n",
        "       [0.        , 0.        , 0.        , 0.        , 0.        ,\n",
        "        0.        , 0.        , 0.        , 0.        , 0.        ,\n",
        "        0.        , 0.        , 0.        , 0.        , 0.        ,\n",
        "        0.        , 0.        , 0.        , 0.        , 0.        ,\n",
        "        0.        , 0.        , 0.        , 0.        , 0.        ,\n",
        "        0.        , 0.        , 0.        ]])"
      ],
      "metadata": {
        "id": "0X7aiMejfisS"
      },
      "execution_count": null,
      "outputs": []
    },
    {
      "cell_type": "code",
      "source": [
        "model = Sequential()\n",
        "\n",
        "model.add(Flatten(input_shape=(28,28)))\n",
        "model.add(Dense(128,activation='relu'))\n",
        "model.add(Dense(32,activation='relu'))\n",
        "model.add(Dense(10,activation='softmax'))"
      ],
      "metadata": {
        "id": "yQLxdSfAfner"
      },
      "execution_count": null,
      "outputs": []
    },
    {
      "cell_type": "code",
      "source": [
        "model.summary()"
      ],
      "metadata": {
        "id": "LlX0wqwxfraB"
      },
      "execution_count": null,
      "outputs": []
    },
    {
      "cell_type": "code",
      "source": [
        "Model: \"sequential_5\"\n",
        "_________________________________________________________________\n",
        " Layer (type)                Output Shape              Param #\n",
        "=================================================================\n",
        " flatten_4 (Flatten)         (None, 784)               0\n",
        "\n",
        " dense_11 (Dense)            (None, 128)               100480\n",
        "\n",
        " dense_12 (Dense)            (None, 32)                4128\n",
        "\n",
        " dense_13 (Dense)            (None, 10)                330\n",
        "\n",
        "=================================================================\n",
        "Total params: 104,938\n",
        "Trainable params: 104,938\n",
        "Non-trainable params: 0\n",
        "_________________________________________________________________"
      ],
      "metadata": {
        "id": "kf79DKLiftOx"
      },
      "execution_count": null,
      "outputs": []
    },
    {
      "cell_type": "code",
      "source": [
        "model.compile(loss='sparse_categorical_crossentropy',optimizer='Adam',metrics=['accuracy'])"
      ],
      "metadata": {
        "id": "rTPrFzP_fyxg"
      },
      "execution_count": null,
      "outputs": []
    },
    {
      "cell_type": "code",
      "source": [
        "history = model.fit(X_train,y_train,epochs=25,validation_split=0.2)"
      ],
      "metadata": {
        "id": "AczyTt5hf2TX"
      },
      "execution_count": null,
      "outputs": []
    },
    {
      "cell_type": "code",
      "source": [
        "Epoch 1/25\n",
        "1500/1500 [==============================] - 5s 3ms/step - loss: 0.2845 - accuracy: 0.9168 - val_loss: 0.1425 - val_accuracy: 0.9570\n",
        "Epoch 2/25\n",
        "1500/1500 [==============================] - 4s 3ms/step - loss: 0.1164 - accuracy: 0.9638 - val_loss: 0.1258 - val_accuracy: 0.9605\n",
        "Epoch 3/25\n",
        "1500/1500 [==============================] - 4s 3ms/step - loss: 0.0800 - accuracy: 0.9754 - val_loss: 0.0912 - val_accuracy: 0.9728\n",
        "Epoch 4/25\n",
        "1500/1500 [==============================] - 4s 3ms/step - loss: 0.0594 - accuracy: 0.9817 - val_loss: 0.1014 - val_accuracy: 0.9697\n",
        "Epoch 5/25\n",
        "1500/1500 [==============================] - 4s 3ms/step - loss: 0.0462 - accuracy: 0.9851 - val_loss: 0.1024 - val_accuracy: 0.9687\n",
        "Epoch 6/25\n",
        "1500/1500 [==============================] - 4s 3ms/step - loss: 0.0377 - accuracy: 0.9881 - val_loss: 0.1060 - val_accuracy: 0.9712\n",
        "Epoch 7/25\n",
        "1500/1500 [==============================] - 4s 3ms/step - loss: 0.0313 - accuracy: 0.9898 - val_loss: 0.0960 - val_accuracy: 0.9758\n",
        "Epoch 8/25\n",
        "1500/1500 [==============================] - 4s 3ms/step - loss: 0.0283 - accuracy: 0.9902 - val_loss: 0.1061 - val_accuracy: 0.9732\n",
        "Epoch 9/25\n",
        "1500/1500 [==============================] - 4s 3ms/step - loss: 0.0230 - accuracy: 0.9923 - val_loss: 0.1160 - val_accuracy: 0.9713\n",
        "Epoch 10/25\n",
        "1500/1500 [==============================] - 4s 3ms/step - loss: 0.0179 - accuracy: 0.9939 - val_loss: 0.1134 - val_accuracy: 0.9761\n",
        "Epoch 11/25\n",
        "1500/1500 [==============================] - 4s 3ms/step - loss: 0.0177 - accuracy: 0.9937 - val_loss: 0.1204 - val_accuracy: 0.9742\n",
        "Epoch 12/25\n",
        "1500/1500 [==============================] - 4s 3ms/step - loss: 0.0156 - accuracy: 0.9947 - val_loss: 0.1103 - val_accuracy: 0.9761\n",
        "Epoch 13/25\n",
        "1500/1500 [==============================] - 4s 3ms/step - loss: 0.0156 - accuracy: 0.9949 - val_loss: 0.1221 - val_accuracy: 0.9743\n",
        "Epoch 14/25\n",
        "1500/1500 [==============================] - 4s 3ms/step - loss: 0.0121 - accuracy: 0.9960 - val_loss: 0.1246 - val_accuracy: 0.9764\n",
        "Epoch 15/25\n",
        "1500/1500 [==============================] - 4s 3ms/step - loss: 0.0122 - accuracy: 0.9958 - val_loss: 0.1362 - val_accuracy: 0.9753\n",
        "Epoch 16/25\n",
        "1500/1500 [==============================] - 4s 3ms/step - loss: 0.0100 - accuracy: 0.9964 - val_loss: 0.1340 - val_accuracy: 0.9772\n",
        "Epoch 17/25\n",
        "1500/1500 [==============================] - 4s 3ms/step - loss: 0.0131 - accuracy: 0.9955 - val_loss: 0.1371 - val_accuracy: 0.9752\n",
        "Epoch 18/25\n",
        "1500/1500 [==============================] - 4s 3ms/step - loss: 0.0101 - accuracy: 0.9968 - val_loss: 0.1318 - val_accuracy: 0.9760\n",
        "Epoch 19/25\n",
        "1500/1500 [==============================] - 4s 3ms/step - loss: 0.0116 - accuracy: 0.9962 - val_loss: 0.1577 - val_accuracy: 0.9732\n",
        "Epoch 20/25\n",
        "1500/1500 [==============================] - 4s 3ms/step - loss: 0.0093 - accuracy: 0.9969 - val_loss: 0.1570 - val_accuracy: 0.9718\n",
        "Epoch 21/25\n",
        "1500/1500 [==============================] - 4s 3ms/step - loss: 0.0095 - accuracy: 0.9970 - val_loss: 0.1347 - val_accuracy: 0.9772\n",
        "Epoch 22/25\n",
        "1500/1500 [==============================] - 4s 3ms/step - loss: 0.0076 - accuracy: 0.9975 - val_loss: 0.1591 - val_accuracy: 0.9762\n",
        "Epoch 23/25\n",
        "1500/1500 [==============================] - 4s 3ms/step - loss: 0.0079 - accuracy: 0.9975 - val_loss: 0.1919 - val_accuracy: 0.9682\n",
        "Epoch 24/25\n",
        "1500/1500 [==============================] - 4s 3ms/step - loss: 0.0078 - accuracy: 0.9974 - val_loss: 0.1692 - val_accuracy: 0.9737\n",
        "Epoch 25/25\n",
        "1500/1500 [==============================] - 4s 3ms/step - loss: 0.0084 - accuracy: 0.9971 - val_loss: 0.1647 - val_accuracy: 0.9753"
      ],
      "metadata": {
        "id": "HKBKpoTWf5Jy"
      },
      "execution_count": null,
      "outputs": []
    },
    {
      "cell_type": "code",
      "source": [
        "y_pred = y_prob.argmax(axis=1)"
      ],
      "metadata": {
        "id": "MEiXLRLGgLUR"
      },
      "execution_count": null,
      "outputs": []
    },
    {
      "cell_type": "code",
      "source": [
        "from sklearn.metrics import accuracy_score\n",
        "accuracy_score(y_test,y_pred)"
      ],
      "metadata": {
        "id": "0VExbQ6ZgOwx"
      },
      "execution_count": null,
      "outputs": []
    },
    {
      "cell_type": "code",
      "source": [
        "0.9755"
      ],
      "metadata": {
        "id": "282ljmu1gQ5o"
      },
      "execution_count": null,
      "outputs": []
    },
    {
      "cell_type": "code",
      "source": [
        "plt.plot(history.history['loss'])\n",
        "plt.plot(history.history['val_loss'])"
      ],
      "metadata": {
        "id": "hDHRnG4ogT5y"
      },
      "execution_count": null,
      "outputs": []
    },
    {
      "cell_type": "code",
      "source": [
        "[<matplotlib.lines.Line2D at 0x7f5737a6c590>]"
      ],
      "metadata": {
        "id": "K9mhwTiFgV3X"
      },
      "execution_count": null,
      "outputs": []
    },
    {
      "cell_type": "code",
      "source": [
        "plt.plot(history.history['accuracy'])\n",
        "plt.plot(history.history['val_accuracy'])"
      ],
      "metadata": {
        "id": "jsJ_YHFCgXXd"
      },
      "execution_count": null,
      "outputs": []
    },
    {
      "cell_type": "code",
      "source": [
        "[<matplotlib.lines.Line2D at 0x7f5737831e50>]"
      ],
      "metadata": {
        "id": "wXXbkpM7giGx"
      },
      "execution_count": null,
      "outputs": []
    },
    {
      "cell_type": "code",
      "source": [
        "plt.imshow(X_test[1])"
      ],
      "metadata": {
        "id": "iEdpIvHxglnr"
      },
      "execution_count": null,
      "outputs": []
    },
    {
      "cell_type": "code",
      "source": [
        "model.predict(X_test[1].reshape(1,28,28)).argmax(axis=1)"
      ],
      "metadata": {
        "id": "H4VN2bvVgofS"
      },
      "execution_count": null,
      "outputs": []
    },
    {
      "cell_type": "code",
      "source": [
        "array([2])"
      ],
      "metadata": {
        "id": "FxRuRwIMgsUF"
      },
      "execution_count": null,
      "outputs": []
    }
  ]
}